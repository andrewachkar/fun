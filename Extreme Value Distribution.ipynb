{
 "cells": [
  {
   "cell_type": "markdown",
   "metadata": {},
   "source": [
    "# Extreme Value Distribution\n",
    "\n",
    "## The question\n",
    "\n",
    "I encountered an interesting stastistics question on a competition recently and solved it using a numerical approach. Paraphrasing, the question was as follows:\n",
    "\n",
    "A math wiz asks you to pick a random number using the following approach:\n",
    "\n",
    "1. Using a standard normal distribution (mean 0, standard deviation 1), generate 1 million random samples\n",
    "2. Take the largest number you found and round it to the nearest integer\n",
    "3. Write this number down and keep it hidden\n",
    "\n",
    "The math wiz thinks he can guess what number you wrote down. If he's wrong, he'll pay you \\$150, but if he's right, you owe him \\$10. \n",
    "\n",
    "The question is thus:\n",
    "\n",
    "1. What number would the math wiz be guessing and why?\n",
    "2. Understanding this, is the bet fair or not fair?\n",
    "\n",
    "---------------------------------------\n",
    "\n",
    "## A numerical solution\n",
    "\n",
    "I approached this problem directly by attempting to simulate the result of the experiment enough times to understand the math wiz's thinking. \n",
    "\n",
    "Unfortunately, this problem can be computationally intensive since we want to:\n",
    "\n",
    "1. Generate 10^6 random samples from a normal distribution N(0,1)\n",
    "2. Identify the maximum value in this list\n",
    "3. Repeat this X times until we can confidently describe the unknown distribution \n",
    "\n",
    "Through some trial and error, I decided that the optimal approach (in Python) was to evaluate the 10^6 samples in serial and distribute the X experiments in parallel.\n",
    "\n",
    "Let's begin!\n",
    "\n",
    "(I also did a check of this solution using Igor Pro. See end of this notebook for the code)"
   ]
  },
  {
   "cell_type": "markdown",
   "metadata": {},
   "source": [
    "## Module dependencies"
   ]
  },
  {
   "cell_type": "code",
   "execution_count": 1,
   "metadata": {
    "collapsed": false
   },
   "outputs": [],
   "source": [
    "from scipy.stats import genextreme\n",
    "import numpy as np\n",
    "from pylab import plot,show,hist,figure,title,xlim,ylim\n",
    "from multiprocessing import Pool, cpu_count\n",
    "%matplotlib inline"
   ]
  },
  {
   "cell_type": "markdown",
   "metadata": {},
   "source": [
    "### Function setup\n",
    "\n"
   ]
  },
  {
   "cell_type": "code",
   "execution_count": 2,
   "metadata": {
    "collapsed": false
   },
   "outputs": [
    {
     "name": "stdout",
     "output_type": "stream",
     "text": [
      "Cores 1, 2, 3, 4, 5, 6, 7, 8 successfully randomized.\n"
     ]
    }
   ],
   "source": [
    "CPUS = cpu_count() ## Number of CPUs \n",
    "SAMPLES = 10**4    ## I highly recommend reducing this number to 10**2 or 10**3 to start.\n",
    "DISTSIZE = 10**6   ## Number of samples specified by the math wiz in his challenge\n",
    "\n",
    "def maxOfDist(_):\n",
    "    '''Returns the largest random sample from N(0,1) from 10^6 samples'''\n",
    "    return np.random.randn(DISTSIZE).max()\n",
    "\n",
    "def randomizeSeed(n):\n",
    "    '''\n",
    "    A function that tells the current core to generate a random seed\n",
    "    Will call this on all cores to randomize them\n",
    "    '''\n",
    "    np.random.seed()\n",
    "    return str(n)\n",
    "    \n",
    "## Setup the parallel workflow and randomize the cores\n",
    "if __name__ == '__main__':\n",
    "    p = Pool(CPUS)\n",
    "    out=p.map(randomizeSeed,range(1,CPUS+1))\n",
    "    print(\"Cores \"+\", \".join(out) + \" successfully randomized.\")"
   ]
  },
  {
   "cell_type": "markdown",
   "metadata": {},
   "source": [
    "### Perform the experiments\n",
    "\n",
    "This is the expensive calculation (*be patient as it runs, it took 1.5 minutes on my 8 core machine with SAMPLES=10000*). The result is an array of maximal values (we don't store the underlying distributions to save memory). The evaluation is split up evenly across all cores to minimize overhead. "
   ]
  },
  {
   "cell_type": "code",
   "execution_count": 3,
   "metadata": {
    "collapsed": false
   },
   "outputs": [],
   "source": [
    "maxValuesDist = np.array(p.map(maxOfDist,[_]*SAMPLES,chunksize=SAMPLES//CPUS))"
   ]
  },
  {
   "cell_type": "markdown",
   "metadata": {},
   "source": [
    "### Analyze the results\n",
    "\n",
    "If you plot a histogram of the data, you find a skewed distribution centered around 4.75 and having a tail on the high side. We'll come back to understanding what this distribution is shortly."
   ]
  },
  {
   "cell_type": "code",
   "execution_count": 4,
   "metadata": {
    "collapsed": false
   },
   "outputs": [
    {
     "data": {
      "image/png": "[encoded data removed]",
      "text/plain": [
       "<matplotlib.figure.Figure at 0x109f11a90>"
      ]
     },
     "metadata": {},
     "output_type": "display_data"
    }
   ],
   "source": [
    "hist(maxValuesDist,50,normed=1,alpha=.3)\n",
    "xlim(3,7)\n",
    "show()"
   ]
  },
  {
   "cell_type": "markdown",
   "metadata": {},
   "source": [
    "Because we are interested in rounding the maximal values to the nearest integer, a better representation of possible outputs would be given as follows."
   ]
  },
  {
   "cell_type": "code",
   "execution_count": 5,
   "metadata": {
    "collapsed": false
   },
   "outputs": [
    {
     "data": {
      "image/png": "[encoded data removed]",
      "text/plain": [
       "<matplotlib.figure.Figure at 0x10af7ec88>"
      ]
     },
     "metadata": {},
     "output_type": "display_data"
    }
   ],
   "source": [
    "coarseHist=hist(maxValuesDist,bins=[2.5,3.5,4.5,5.5,6.5,7.5],normed=1,alpha=.3)\n",
    "xlim(3,7)\n",
    "show()"
   ]
  },
  {
   "cell_type": "markdown",
   "metadata": {},
   "source": [
    "From this, we can see that there are only 3 likely choices and that 5 is by far the favourite. **Not so random after all!**\n",
    "\n",
    "Curious about this distribution, I found that it most resembles [an extreme value distribution](https://en.wikipedia.org/wiki/Generalized_extreme_value_distribution). \n",
    "\n",
    "We can fit our data to such a distribution using genextreme from scipy.stats (Docs are [here](http://docs.scipy.org/doc/scipy/reference/generated/scipy.stats.genextreme.html)). Let's check if this works. \n",
    "\n",
    "#### Do the fit and check parameters"
   ]
  },
  {
   "cell_type": "code",
   "execution_count": 6,
   "metadata": {
    "collapsed": false
   },
   "outputs": [
    {
     "data": {
      "text/plain": [
       "(0.042513064850128242, 4.7502410896211469, 0.20266453506625759)"
      ]
     },
     "execution_count": 6,
     "metadata": {},
     "output_type": "execute_result"
    }
   ],
   "source": [
    "np.seterr(divide='ignore', invalid='ignore') # ignore errors\n",
    "\n",
    "param = genextreme.fit(maxValuesDist) # fit to a generalized extreme value distribution\n",
    "\n",
    "param #[0]: shape parameter, [1]: location parameter, [2]: scale parameter"
   ]
  },
  {
   "cell_type": "markdown",
   "metadata": {},
   "source": [
    "#### Plot the fit results"
   ]
  },
  {
   "cell_type": "code",
   "execution_count": 7,
   "metadata": {
    "collapsed": false
   },
   "outputs": [
    {
     "data": {
      "image/png": "[encoded data removed]",
      "text/plain": [
       "<matplotlib.figure.Figure at 0x10b083908>"
      ]
     },
     "metadata": {},
     "output_type": "display_data"
    }
   ],
   "source": [
    "x = np.linspace(4,6,100)\n",
    "\n",
    "pdf_fitted = genextreme.pdf(x,c=param[0],loc=param[1],scale=param[2])\n",
    "\n",
    "title('Extreme Value Distribution')\n",
    "plot(x,pdf_fitted,'r-')\n",
    "hist(maxValuesDist,50,normed=1,alpha=.3)\n",
    "show()"
   ]
  },
  {
   "cell_type": "markdown",
   "metadata": {},
   "source": [
    "As can be seen, the fitted distribution function matches the underlying very well.  \n",
    "\n",
    "* * *\n",
    "\n",
    "# Answering the question\n",
    "\n",
    "We can now see that the numbers that the math wiz would be guessing are well described by an extreme value distribution. The distribution is peaked around 4.75 and nearly all the weight lies in the 4.5 to 5.5 range. Let's find out how much exactly. \n",
    "\n",
    "We could bin our results or use the distribution function to evaluate the probability. They should give the same result, so we will compare."
   ]
  },
  {
   "cell_type": "code",
   "execution_count": 8,
   "metadata": {
    "collapsed": false
   },
   "outputs": [],
   "source": [
    "probInRangeCDF=(genextreme.cdf(5.5,c=param[0],loc=param[1],scale=param[2])\n",
    "                -genextreme.cdf(4.5,c=param[0],loc=param[1],scale=param[2]))\n",
    "\n",
    "probInRangeHist=max(coarseHist[0])"
   ]
  },
  {
   "cell_type": "code",
   "execution_count": 9,
   "metadata": {
    "collapsed": false
   },
   "outputs": [
    {
     "name": "stdout",
     "output_type": "stream",
     "text": [
      "The likelihood of getting the number 5 is \n",
      "------------------------------------------\n",
      "Distribution function:\t94.66% \n",
      "Histogram binning:\t94.68%\n"
     ]
    }
   ],
   "source": [
    "print((\"The likelihood of getting the number 5 is \\n\"+\"-\"*42+\"\\n\" + \n",
    "      \"Distribution function:\\t{:0.2%} \\nHistogram binning:\\t{:0.2%}\")\n",
    "      .format(probInRangeCDF,probInRangeHist))"
   ]
  },
  {
   "cell_type": "markdown",
   "metadata": {},
   "source": [
    "These are in good agreement, as expected.\n",
    "\n",
    "* * *\n",
    "\n",
    "**Clearly, the math wiz would be guessing that the number you wrote down is 5 and they would be right about 95% of the time!**\n",
    "\n",
    "Roughly speaking, if you played the game 20 times, you would lose 19 times and win only once. The odds are 19/1. The bet is **not fair** and you shouldn't take it since his offer of \\$150 is less than the break-even point of \\$190.\n",
    "\n",
    "---------------------------------------\n",
    "\n",
    "\n",
    "## Final thoughts\n",
    "\n",
    "Although initially I thought this problem would be simple, it taught me two important lessons.\n",
    "\n",
    "1. Parallelization can be tricky with random numbers in Python and one must be careful that each core is operating with a different random seed.\n",
    "2. I had not heard about extreme value distributions before. It seems that predicting the distribution of unlikely events is an important topic and poses many challenges in the real world (eg. predicting large earthquakes, component failure, etc.). Intuitively, I feel this problem can be solved analytically, yet I do not know how to do so, not having much of a stats background. If anyone has any ideas, I'd be happy to hear them.\n",
    "\n",
    "\n",
    "---------------------------------------\n",
    "\n",
    "\n",
    "\n",
    "### For the Igor Pro people out there (I know there must be a few!)\n",
    "\n",
    "This problem can be solved in just a few lines of Igor Pro code:\n",
    "\n",
    "    function evd()\n",
    "        variable i, n=1000\n",
    "        make /O /N=(n) nw\n",
    "        make /O /N=1000000 g\n",
    "        for(i=0;i<n;i+=1)\n",
    "            Wave g = root:g; Multithread g = gnoise(1)\n",
    "            nw[i] = wavemax(g)\n",
    "        endfor\n",
    "        Histogram/P/C/B={3.5,1,4} nw,root:nw_Hist\n",
    "    end\n",
    "\n",
    "\n",
    "This code finds that 5 occurs with 94.58% probability.  \n",
    "\n",
    "Curiously, Igor Pro is reasonably efficient at populating a large wave (list) with multithreading even if each evaluation requires a random sample from a gaussian distribution, so I parallelized this step rather than the experiment-level (for loop) steps. \n",
    "\n",
    "I could not find an efficient way to replicate the `Multithread g = gnoise(1)` line in Python.\n",
    "\n",
    "In terms of benchmarking, the overall evaluation time for 10000 experiments was roughly 1:25 in Python and 2:45 in Igor Pro. (8-core Mac Pro Early 2008, 12 GB of RAM). This is overkill, and using SAMPLES=1000 is more than adequate to get a reasonable solution in 1/10th of the time.  "
   ]
  },
  {
   "cell_type": "code",
   "execution_count": null,
   "metadata": {
    "collapsed": true
   },
   "outputs": [],
   "source": []
  }
 ],
 "metadata": {
  "kernelspec": {
   "display_name": "Python 3",
   "language": "python",
   "name": "python3"
  },
  "language_info": {
   "codemirror_mode": {
    "name": "ipython",
    "version": 3
   },
   "file_extension": ".py",
   "mimetype": "text/x-python",
   "name": "python",
   "nbconvert_exporter": "python",
   "pygments_lexer": "ipython3",
   "version": "3.4.3"
  }
 },
 "nbformat": 4,
 "nbformat_minor": 0
}
