{
 "cells": [
  {
   "cell_type": "markdown",
   "metadata": {
    "collapsed": true
   },
   "source": [
    "## Miscellaneous Challenges"
   ]
  },
  {
   "cell_type": "markdown",
   "metadata": {},
   "source": [
    "I encountered the following algorithm question during an interview:\n",
    "\n",
    "Make a function that takes an array of length n (inupt = a) and returns an array\n",
    "of length n (output = o) where each element in o at index i is the product of all \n",
    "elements in a except the element at index i. The elements of a are all integers.\n",
    "\n",
    "A general array [a,b,c,d] should have output [bcd,acd,abd,abc], where a,b,c,d are integers\n",
    "and bcd, acd, abd, and abc are the products. \n",
    "\n",
    "The solution must run in O(n) time and have O(n) space complexity. "
   ]
  },
  {
   "cell_type": "code",
   "execution_count": 1,
   "metadata": {
    "collapsed": true
   },
   "outputs": [],
   "source": [
    "def prodArray(a):\n",
    "    '''\n",
    "    Input: a, list of integers length n\n",
    "    Output: out, list of integers length n\n",
    "    \n",
    "    If a = [A,B,C,D], out = [B*C*D,A*C*D,A*B*D,A*B*C]\n",
    "    \n",
    "    where A,B,C,D are integers\n",
    "    \n",
    "    This is the so-called \"product-array\" challenge common in interviews\n",
    "    \n",
    "    Although this question may be done without division\n",
    "    my interviewer guided me towards this approach\n",
    "    '''\n",
    "    \n",
    "    count,prod = 0,1\n",
    "    \n",
    "    # search for zeros in a\n",
    "    for v in a:\n",
    "        if v == 0:\n",
    "            count +=1\n",
    "            if count>1:\n",
    "                # Ends if multiple zeros found, output array is all 0\n",
    "                return [0]*len(a)\n",
    "    \n",
    "    # Evaluate product of all non-zero elements (number of zeros is either 0 or 1)\n",
    "    for v in a:\n",
    "        if v!= 0:\n",
    "            prod *= v\n",
    "    \n",
    "    # If a zero was present, the array is all zeros except where the zero occurred\n",
    "    if count == 1:\n",
    "        out = [0]*len(a)\n",
    "        out[a.index(0)] = prod\n",
    "        \n",
    "    # Otherwise, each element is equal to the total product divided by the element value\n",
    "    else:\n",
    "        out = [prod//v for v in a]\n",
    "\n",
    "    return out\n",
    "            "
   ]
  },
  {
   "cell_type": "markdown",
   "metadata": {},
   "source": [
    "## Example usage"
   ]
  },
  {
   "cell_type": "code",
   "execution_count": 2,
   "metadata": {
    "collapsed": false
   },
   "outputs": [
    {
     "data": {
      "text/plain": [
       "[288, 72, 36, 32]"
      ]
     },
     "execution_count": 2,
     "metadata": {},
     "output_type": "execute_result"
    }
   ],
   "source": [
    "# General case, all non-zero integers\n",
    "prodArray([1,4,8,9])"
   ]
  },
  {
   "cell_type": "code",
   "execution_count": 3,
   "metadata": {
    "collapsed": false
   },
   "outputs": [
    {
     "data": {
      "text/plain": [
       "[288, 0, 0, 0]"
      ]
     },
     "execution_count": 3,
     "metadata": {},
     "output_type": "execute_result"
    }
   ],
   "source": [
    "# A single zero\n",
    "prodArray([0,4,8,9])"
   ]
  },
  {
   "cell_type": "code",
   "execution_count": 4,
   "metadata": {
    "collapsed": false
   },
   "outputs": [
    {
     "data": {
      "text/plain": [
       "[0, 0, 0, 0]"
      ]
     },
     "execution_count": 4,
     "metadata": {},
     "output_type": "execute_result"
    }
   ],
   "source": [
    "# Two or more zeros lead to a trivial case\n",
    "prodArray([0,4,0,9])"
   ]
  },
  {
   "cell_type": "code",
   "execution_count": 5,
   "metadata": {
    "collapsed": false
   },
   "outputs": [
    {
     "data": {
      "text/plain": [
       "[573269114880000000,\n",
       " 2866345574400000000,\n",
       " 1433172787200000000,\n",
       " 955448524800000000,\n",
       " 2866345574400000000,\n",
       " 818955878400000000,\n",
       " -191089704960000000,\n",
       " 114653822976000000,\n",
       " 573269114880000000,\n",
       " 57905971200000000,\n",
       " 573269114880000000,\n",
       " 130288435200000000,\n",
       " 477724262400000000,\n",
       " 337217126400000000,\n",
       " -71658639360000000,\n",
       " 1433172787200000000,\n",
       " 286634557440000000,\n",
       " 5732691148800000000]"
      ]
     },
     "execution_count": 5,
     "metadata": {},
     "output_type": "execute_result"
    }
   ],
   "source": [
    "# All non-zero, large results\n",
    "prodArray([10,2,4,6,2,7,-30,50,10,99,10,44,12,17,-80,4,20,1])"
   ]
  }
 ],
 "metadata": {
  "kernelspec": {
   "display_name": "Python 3",
   "language": "python",
   "name": "python3"
  },
  "language_info": {
   "codemirror_mode": {
    "name": "ipython",
    "version": 3
   },
   "file_extension": ".py",
   "mimetype": "text/x-python",
   "name": "python",
   "nbconvert_exporter": "python",
   "pygments_lexer": "ipython3",
   "version": "3.4.3"
  }
 },
 "nbformat": 4,
 "nbformat_minor": 0
}
