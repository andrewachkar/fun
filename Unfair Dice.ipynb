{
 "cells": [
  {
   "cell_type": "markdown",
   "metadata": {},
   "source": [
    "## Solution to Unfair Dice Mission \n",
    "\n",
    "For a full description of the problem, see [this page on check.io](http://www.checkio.org/mission/unfair-dice/)\n",
    "\n",
    "To summarize, you are given a dice with a number of sides N (3 to 10) and an integer (1 to 18) on each side. The sum of all sides is S. Your task is to find a different die with sides that sum to S, that would win more than 50% of games played against the input dice. To determine a win, both die are rolled and if your die has a higher number, it wins. If the numbers are tied, both die are rolled again. If your number is lower, you lose. \n",
    "\n",
    "The challenge requires simply outputting one such die, if any exists.\n",
    "\n",
    "I was interested in solving this using combinatorics to determine all posible valid die and then scoring each of these against the input and ranking them. My solution is below.\n",
    "\n",
    "**For usage examples, scroll to the bottom of the notebook**\n"
   ]
  },
  {
   "cell_type": "markdown",
   "metadata": {},
   "source": [
    "## Dependecies\n",
    "\n",
    "division for Python 2.7 support."
   ]
  },
  {
   "cell_type": "code",
   "execution_count": 1,
   "metadata": {
    "collapsed": true
   },
   "outputs": [],
   "source": [
    "from __future__ import division"
   ]
  },
  {
   "cell_type": "markdown",
   "metadata": {},
   "source": [
    "## Various utility functions "
   ]
  },
  {
   "cell_type": "code",
   "execution_count": 2,
   "metadata": {
    "collapsed": false
   },
   "outputs": [],
   "source": [
    "def partitionfunc(n,k,l=1):\n",
    "    '''\n",
    "    returns all lists of length k that sum to n with min entries of l\n",
    "    \n",
    "    n is the integer to partition, \n",
    "    k is the length of partitions, \n",
    "    l is the min partition element size\n",
    "    '''\n",
    "    if k < 1:\n",
    "        raise StopIteration\n",
    "    if k == 1:\n",
    "        if n >= l:\n",
    "            yield (n,)\n",
    "        raise StopIteration\n",
    "    for i in range(l,n+1):\n",
    "        for result in partitionfunc(n-i,k-1,i):\n",
    "            yield (i,)+result\n",
    "            \n",
    "def sort_lists_by(lists, key_list=0, desc=False):\n",
    "    '''\n",
    "    sorts multiples lists by the same key\n",
    "    \n",
    "    lists is a tuple of lists to sort\n",
    "    key_list is the index of which list to sort by\n",
    "    desc sets whether to ascend or descent sort\n",
    "    '''\n",
    "    return zip(*sorted(zip(*lists), reverse=desc,\n",
    "                 key=lambda x: x[key_list]))\n",
    "\n",
    "def numGreater(num,numList):\n",
    "    '''counts the number of elements in numList which num is greater than'''\n",
    "    return sum(1 for item in numList if num>item)\n",
    "\n",
    "def sub(a,b):\n",
    "    'subtract two lists of numbers elementwise'\n",
    "    return [i - j for i, j in zip(a, b)]\n",
    "\n",
    "def add(a,b):\n",
    "    'add two lists of numbers elementwise'\n",
    "    return [i + j for i, j in zip(a, b)] \n",
    "\n",
    "\n",
    "def winProbabilities(a,b):\n",
    "    '''\n",
    "    returns tuple (aProb,bProb)\n",
    "    probability of dice a winning against dice b and vice-versa\n",
    "    floating point numbers ranging 0.0 to 1.0\n",
    "    \n",
    "    a and b are input dice lists of the same length\n",
    "    '''\n",
    "    \n",
    "    aProb = 0.0\n",
    "    bProb = 0.0\n",
    "    \n",
    "    for aSide in a:\n",
    "        aProb += 1.0/(len(a) ** 2) *  numGreater(aSide,b)\n",
    "        \n",
    "    for bSide in b:\n",
    "        bProb += 1.0/(len(b) ** 2) *  numGreater(bSide,a)\n",
    "    \n",
    "    if aProb == bProb or (aProb == 0.0 and bProb == 0.0):\n",
    "        return (0.50,0.50)\n",
    "    else:\n",
    "        return (aProb/(aProb+bProb),bProb/(aProb+bProb))"
   ]
  },
  {
   "cell_type": "markdown",
   "metadata": {},
   "source": [
    "## The main solution function\n",
    "This function **is not verbose**. It just spits out the answer."
   ]
  },
  {
   "cell_type": "code",
   "execution_count": 3,
   "metadata": {
    "collapsed": false
   },
   "outputs": [],
   "source": [
    "def winning_die(die):\n",
    "    '''\n",
    "    This returns the best die to beat the input die based on the rules in the Unfair Dice challange\n",
    "    The winning die is a list of integers. If no winner exists the output is []\n",
    "    This function will not print any diagnostic information (see below verbose version)\n",
    "    \n",
    "    '''\n",
    "    \n",
    "    #Ensure die is sorted\n",
    "    die = sorted(die)\n",
    "    \n",
    "    #Get some statistics about input die\n",
    "    l = len(die)\n",
    "    t = sum(die)\n",
    "    biggest = max(die)\n",
    "    smallest = min(die)\n",
    "    \n",
    "    #Check that sides are all integers\n",
    "    dieInt = map(int,die)\n",
    "    dieIntDiff = sub(die, dieInt) \n",
    "    zerosList = [0] * l\n",
    "    \n",
    "    # Basic checks for die validity\n",
    "    if l>10 or l<3 or t>100 or biggest > 18 or smallest < 1 or dieIntDiff != zerosList:\n",
    "        print(\"You input dice doest't meet the rules. Try another input.\")\n",
    "        return\n",
    "    \n",
    "    ###Begin game###\n",
    "    \n",
    "    # Obtain all possible valid die\n",
    "    # Partitionfunc will return all lists of length l that sum to t with min entries of 1\n",
    "    allDie = []\n",
    "    for p in partitionfunc(t,l,1):\n",
    "        allDie.append(list(p))\n",
    "    \n",
    "    # If not additional valid die exist, return []\n",
    "    if(len(allDie)==1):\n",
    "        return []\n",
    "    \n",
    "    # Remove original die from allDie list\n",
    "    if die in allDie: allDie.remove(die)\n",
    "    \n",
    "    # Determine the win probability of all valid die against the input die\n",
    "    # and sort the results\n",
    "    probabilities = []\n",
    "    for newDie in allDie:\n",
    "        (winProb,loseProb) = winProbabilities(newDie,die)\n",
    "        probabilities.append(winProb)\n",
    "        \n",
    "    allDieSorted, probabilitiesSorted = sort_lists_by((allDie,probabilities), key_list=1, desc=True)\n",
    "    \n",
    "    # Return the best result\n",
    "    for d,p in zip(allDieSorted,probabilitiesSorted):\n",
    "        if p>0.500001: #to eliminate rounding errors\n",
    "            return d\n",
    "        else:  \n",
    "            #no solutions with better than 50% probability of winning\n",
    "            return []\n",
    "    \n",
    "\n",
    "    "
   ]
  },
  {
   "cell_type": "markdown",
   "metadata": {},
   "source": [
    "## The main solution function\n",
    "This function **is verbose**. It provides various diagnostics and ways to investigate the solutions."
   ]
  },
  {
   "cell_type": "code",
   "execution_count": 4,
   "metadata": {
    "collapsed": false
   },
   "outputs": [],
   "source": [
    "def winning_die_verbose(die,outputmax=10,printLosers=False):\n",
    "    '''\n",
    "    This version provides verbose output for examining results\n",
    "    outputmax sets the number of winners to display\n",
    "    printLosers enables/disables the output of the losing die\n",
    "    the losing die are ALL printed\n",
    "    '''\n",
    "    \n",
    "    #Ensure die is sorted\n",
    "    die = sorted(die)\n",
    "    \n",
    "    #Get some statistics about input die\n",
    "    l = len(die)\n",
    "    t = sum(die)\n",
    "    biggest = max(die)\n",
    "    smallest = min(die)\n",
    "    \n",
    "    #Check that sides are all integers\n",
    "    dieInt = map(int,die)\n",
    "    dieIntDiff = sub(die, dieInt) \n",
    "    zerosList = [0] * l\n",
    "    \n",
    "    #Basic checks for die validity\n",
    "    if l>10 or l<3 or t>100 or biggest > 18 or smallest < 1 or dieIntDiff != zerosList:\n",
    "        print(\"You input dice doest't meet the rules. Try another input.\")\n",
    "        return\n",
    "    \n",
    "    \n",
    "    ###Begin game###\n",
    "    \n",
    "    # Obtain all possible valid die\n",
    "    # Partitionfunc will return all lists of length l that sum to t with min entries of 1\n",
    "    allDie = []\n",
    "    for p in partitionfunc(t,l,1):\n",
    "        allDie.append(list(p))\n",
    "    \n",
    "    if(len(allDie)==1):\n",
    "        print(\"There are no other die!\")\n",
    "        return []\n",
    "    \n",
    "    \n",
    "    #Remove original die from allDie list\n",
    "    if die in allDie: allDie.remove(die)\n",
    "   \n",
    "    \n",
    "    #Determine the win probability of all valid die against the input die\n",
    "    #Store win probabilities in list probabilities\n",
    "    probabilities = []\n",
    "    for newDie in allDie:\n",
    "        (winProb,loseProb) = winProbabilities(newDie,die)\n",
    "        probabilities.append(winProb)\n",
    "    \n",
    "    #Sort all the valid die by their win probabilities and store result in sorted lists\n",
    "    allDieSorted, probabilitiesSorted = sort_lists_by((allDie,probabilities), key_list=1, desc=True)\n",
    "    \n",
    "    #Tally winners into count\n",
    "    #Prepare a string to output the results\n",
    "    count,countTies,countLosers = 0,0,0\n",
    "    out,outLosers = \"\",\"\"\n",
    "    \n",
    "    for d,p in zip(allDieSorted,probabilitiesSorted):\n",
    "        if p>0.500001:\n",
    "            if count < outputmax:\n",
    "                out +=  str(d) + \"\\t wins %0.2f\" % (100*p) + \"% of games\\n\"\n",
    "            count += 1\n",
    "        else:\n",
    "            theStr = \"%0.2f\" % (100-100*p)\n",
    "            \n",
    "            if printLosers:\n",
    "                outLosers +=  str(d) \n",
    "            \n",
    "            if theStr == \"50.00\":\n",
    "                countTies +=1\n",
    "                if printLosers:\n",
    "                    outLosers += \"\\t ties the input\\n\"\n",
    "            else:\n",
    "                countLosers += 1\n",
    "                if printLosers:\n",
    "                    outLosers += \"\\t loses \" + theStr + \"% of games\\n\"\n",
    "\n",
    "    #Print appropriate output based on number of winners\n",
    "    validDie = len(allDieSorted)\n",
    "    \n",
    "    print((\"{:10}{:8}{}{:7.2%}{}\").format(\"Winners:\",count,\"  (\",count/validDie,\")\"))\n",
    "    print((\"{:10}{:8}{}{:7.2%}{}\").format(\"Ties:\",countTies,\"  (\",countTies/validDie,\")\"))\n",
    "    print((\"{:10}{:8}{}{:7.2%}{}\").format(\"Losers:\",countLosers,\"  (\",countLosers/validDie,\")\"))\n",
    "    print((\"{:10}{:8}{}\").format(\"Valid die:\",validDie,\"\\n\"))\n",
    "    \n",
    "\n",
    "    if count == 0:\n",
    "        print(\"There are no better die!\")\n",
    "    elif count == 1:\n",
    "        print(\"Here is the winner:\\n\" + out)\n",
    "    else:\n",
    "        print(\"Here are the top\", min(count,outputmax), \"winners:\\n\" + out)\n",
    "    \n",
    "    if printLosers and len(outLosers)>0:\n",
    "            print(\"Here are the losing die:\")\n",
    "            print(outLosers)\n",
    "    \n",
    "    "
   ]
  },
  {
   "cell_type": "markdown",
   "metadata": {},
   "source": [
    "## Example usage below\n",
    "\n",
    "These are the test cases on the Unfair Dice description page"
   ]
  },
  {
   "cell_type": "code",
   "execution_count": 5,
   "metadata": {
    "collapsed": false
   },
   "outputs": [
    {
     "name": "stdout",
     "output_type": "stream",
     "text": [
      "in : [3, 3, 3, 3, 6, 6] \n",
      "out: [4, 4, 4, 4, 4, 4] \n",
      "\n",
      "in : [4, 4, 4, 4, 4, 4] \n",
      "out: [1, 4, 4, 5, 5, 5] \n",
      "\n",
      "in : [2, 2, 5, 5, 5, 5] \n",
      "out: [2, 2, 2, 6, 6, 6] \n",
      "\n",
      "in : [1, 1, 3] \n",
      "out: [1, 2, 2] \n",
      "\n",
      "in : [1, 2, 3, 4, 5, 6] \n",
      "out: [] \n",
      "\n",
      "in : [2, 3, 4, 5, 6, 7] \n",
      "out: [1, 1, 4, 7, 7, 7] \n",
      "\n",
      "in : [1, 2, 3, 4, 5, 6] \n",
      "out: [] \n",
      "\n"
     ]
    }
   ],
   "source": [
    "testCases = ([3, 3, 3, 3, 6, 6],[4, 4, 4, 4, 4, 4],[2, 2, 5, 5, 5, 5],[1, 1, 3],\n",
    "            [1, 2, 3, 4, 5, 6],[2, 3, 4, 5, 6, 7],[1, 2, 3, 4, 5, 6])\n",
    "\n",
    "for test in testCases:\n",
    "    print(\"in :\",test,\"\\nout:\",winning_die(test),\"\\n\")"
   ]
  },
  {
   "cell_type": "markdown",
   "metadata": {},
   "source": [
    "**Let's examine the top 5 die for each case**"
   ]
  },
  {
   "cell_type": "code",
   "execution_count": 6,
   "metadata": {
    "collapsed": false
   },
   "outputs": [
    {
     "name": "stdout",
     "output_type": "stream",
     "text": [
      "----------------------------------------------------------------\n",
      "input: [3, 3, 3, 3, 6, 6] \n",
      "\n",
      "Winners:        23  ( 11.62%)\n",
      "Ties:           30  ( 15.15%)\n",
      "Losers:        145  ( 73.23%)\n",
      "Valid die:     198\n",
      "\n",
      "Here are the top 5 winners:\n",
      "[4, 4, 4, 4, 4, 4]\t wins 66.67% of games\n",
      "[3, 4, 4, 4, 4, 5]\t wins 62.50% of games\n",
      "[3, 3, 4, 4, 4, 6]\t wins 61.54% of games\n",
      "[1, 4, 4, 4, 4, 7]\t wins 61.11% of games\n",
      "[1, 4, 4, 4, 5, 6]\t wins 58.82% of games\n",
      "\n",
      "----------------------------------------------------------------\n",
      "input: [4, 4, 4, 4, 4, 4] \n",
      "\n",
      "Winners:        16  (  8.08%)\n",
      "Ties:           46  ( 23.23%)\n",
      "Losers:        136  ( 68.69%)\n",
      "Valid die:     198\n",
      "\n",
      "Here are the top 5 winners:\n",
      "[1, 4, 4, 5, 5, 5]\t wins 75.00% of games\n",
      "[1, 1, 5, 5, 5, 7]\t wins 66.67% of games\n",
      "[1, 1, 5, 5, 6, 6]\t wins 66.67% of games\n",
      "[1, 2, 5, 5, 5, 6]\t wins 66.67% of games\n",
      "[1, 3, 5, 5, 5, 5]\t wins 66.67% of games\n",
      "\n",
      "----------------------------------------------------------------\n",
      "input: [2, 2, 5, 5, 5, 5] \n",
      "\n",
      "Winners:        18  (  9.09%)\n",
      "Ties:           25  ( 12.63%)\n",
      "Losers:        155  ( 78.28%)\n",
      "Valid die:     198\n",
      "\n",
      "Here are the top 5 winners:\n",
      "[2, 2, 2, 6, 6, 6]\t wins 60.00% of games\n",
      "[1, 2, 3, 6, 6, 6]\t wins 58.82% of games\n",
      "[2, 2, 3, 5, 6, 6]\t wins 57.14% of games\n",
      "[1, 1, 5, 5, 6, 6]\t wins 57.14% of games\n",
      "[1, 2, 2, 6, 6, 7]\t wins 56.25% of games\n",
      "\n",
      "----------------------------------------------------------------\n",
      "input: [1, 1, 3] \n",
      "\n",
      "Winners:         1  (100.00%)\n",
      "Ties:            0  (  0.00%)\n",
      "Losers:          0  (  0.00%)\n",
      "Valid die:       1\n",
      "\n",
      "Here is the winner:\n",
      "[1, 2, 2]\t wins 57.14% of games\n",
      "\n",
      "----------------------------------------------------------------\n",
      "input: [1, 2, 3, 4, 5, 6] \n",
      "\n",
      "Winners:         0  (  0.00%)\n",
      "Ties:           31  ( 28.44%)\n",
      "Losers:         78  ( 71.56%)\n",
      "Valid die:     109\n",
      "\n",
      "There are no better die!\n",
      "----------------------------------------------------------------\n",
      "input: [2, 3, 4, 5, 6, 7] \n",
      "\n",
      "Winners:        23  (  6.97%)\n",
      "Ties:           47  ( 14.24%)\n",
      "Losers:        260  ( 78.79%)\n",
      "Valid die:     330\n",
      "\n",
      "Here are the top 5 winners:\n",
      "[1, 1, 4, 7, 7, 7]\t wins 53.13% of games\n",
      "[1, 1, 5, 6, 7, 7]\t wins 53.12% of games\n",
      "[1, 1, 6, 6, 6, 7]\t wins 53.12% of games\n",
      "[1, 2, 3, 7, 7, 7]\t wins 51.61% of games\n",
      "[1, 2, 4, 6, 7, 7]\t wins 51.61% of games\n",
      "\n",
      "----------------------------------------------------------------\n",
      "input: [1, 2, 3, 4, 5, 6] \n",
      "\n",
      "Winners:         0  (  0.00%)\n",
      "Ties:           31  ( 28.44%)\n",
      "Losers:         78  ( 71.56%)\n",
      "Valid die:     109\n",
      "\n",
      "There are no better die!\n"
     ]
    }
   ],
   "source": [
    "for test in testCases:\n",
    "    print(\"-\"*64+\"\\ninput:\",test,\"\\n\")\n",
    "    winning_die_verbose(test,5)"
   ]
  },
  {
   "cell_type": "markdown",
   "metadata": {},
   "source": [
    "**This die can be beat by any valid die (bad choice!)**"
   ]
  },
  {
   "cell_type": "code",
   "execution_count": 7,
   "metadata": {
    "collapsed": false
   },
   "outputs": [
    {
     "name": "stdout",
     "output_type": "stream",
     "text": [
      "Winners:        17  (100.00%)\n",
      "Ties:            0  (  0.00%)\n",
      "Losers:          0  (  0.00%)\n",
      "Valid die:      17\n",
      "\n",
      "Here are the top 17 winners:\n",
      "[2, 2, 2, 7]\t wins 75.00% of games\n",
      "[2, 2, 3, 6]\t wins 75.00% of games\n",
      "[2, 2, 4, 5]\t wins 75.00% of games\n",
      "[2, 3, 3, 5]\t wins 75.00% of games\n",
      "[2, 3, 4, 4]\t wins 75.00% of games\n",
      "[3, 3, 3, 4]\t wins 75.00% of games\n",
      "[1, 2, 2, 8]\t wins 69.23% of games\n",
      "[1, 2, 3, 7]\t wins 69.23% of games\n",
      "[1, 2, 4, 6]\t wins 69.23% of games\n",
      "[1, 2, 5, 5]\t wins 69.23% of games\n",
      "[1, 3, 3, 6]\t wins 69.23% of games\n",
      "[1, 3, 4, 5]\t wins 69.23% of games\n",
      "[1, 4, 4, 4]\t wins 69.23% of games\n",
      "[1, 1, 2, 9]\t wins 60.00% of games\n",
      "[1, 1, 3, 8]\t wins 60.00% of games\n",
      "[1, 1, 4, 7]\t wins 60.00% of games\n",
      "[1, 1, 5, 6]\t wins 60.00% of games\n",
      "\n"
     ]
    }
   ],
   "source": [
    "winning_die_verbose([1,1,1,10],20,True)"
   ]
  },
  {
   "cell_type": "markdown",
   "metadata": {},
   "source": [
    "**A test case that can be beat by around 30% of valid die**"
   ]
  },
  {
   "cell_type": "code",
   "execution_count": 8,
   "metadata": {
    "collapsed": false
   },
   "outputs": [
    {
     "name": "stdout",
     "output_type": "stream",
     "text": [
      "Winners:      2838  ( 29.75%)\n",
      "Ties:          777  (  8.14%)\n",
      "Losers:       5926  ( 62.11%)\n",
      "Valid die:    9541\n",
      "\n",
      "Here are the top 20 winners:\n",
      "[3, 3, 18, 18, 28]\t wins 68.00% of games\n",
      "[3, 3, 18, 19, 27]\t wins 68.00% of games\n",
      "[3, 3, 18, 20, 26]\t wins 68.00% of games\n",
      "[3, 3, 18, 21, 25]\t wins 68.00% of games\n",
      "[3, 3, 18, 22, 24]\t wins 68.00% of games\n",
      "[3, 3, 18, 23, 23]\t wins 68.00% of games\n",
      "[3, 3, 19, 19, 26]\t wins 68.00% of games\n",
      "[3, 3, 19, 20, 25]\t wins 68.00% of games\n",
      "[3, 3, 19, 21, 24]\t wins 68.00% of games\n",
      "[3, 3, 19, 22, 23]\t wins 68.00% of games\n",
      "[3, 3, 20, 20, 24]\t wins 68.00% of games\n",
      "[3, 3, 20, 21, 23]\t wins 68.00% of games\n",
      "[3, 3, 20, 22, 22]\t wins 68.00% of games\n",
      "[3, 3, 21, 21, 22]\t wins 68.00% of games\n",
      "[3, 4, 18, 18, 27]\t wins 68.00% of games\n",
      "[3, 4, 18, 19, 26]\t wins 68.00% of games\n",
      "[3, 4, 18, 20, 25]\t wins 68.00% of games\n",
      "[3, 4, 18, 21, 24]\t wins 68.00% of games\n",
      "[3, 4, 18, 22, 23]\t wins 68.00% of games\n",
      "[3, 4, 19, 19, 25]\t wins 68.00% of games\n",
      "\n"
     ]
    }
   ],
   "source": [
    "winning_die_verbose([2,17,17,17,17],20,False)"
   ]
  },
  {
   "cell_type": "markdown",
   "metadata": {},
   "source": [
    "**Sequences beginning at 1 and increasing by 1 cannot be beat! **"
   ]
  },
  {
   "cell_type": "code",
   "execution_count": 9,
   "metadata": {
    "collapsed": false
   },
   "outputs": [
    {
     "name": "stdout",
     "output_type": "stream",
     "text": [
      "Winners:         0  (  0.00%)\n",
      "Ties:          909  ( 11.87%)\n",
      "Losers:       6747  ( 88.13%)\n",
      "Valid die:    7656\n",
      "\n",
      "There are no better die!\n"
     ]
    }
   ],
   "source": [
    "winning_die_verbose([1,2,3,4,5,6,7,8,9],10,False)"
   ]
  },
  {
   "cell_type": "markdown",
   "metadata": {},
   "source": [
    "**A test near the edge of the rule limits for the die**"
   ]
  },
  {
   "cell_type": "code",
   "execution_count": 10,
   "metadata": {
    "collapsed": false
   },
   "outputs": [
    {
     "name": "stdout",
     "output_type": "stream",
     "text": [
      "Winners:      5935  ( 24.47%)\n",
      "Ties:            0  (  0.00%)\n",
      "Losers:      18324  ( 75.53%)\n",
      "Valid die:   24259\n",
      "\n",
      "Here are the top 10 winners:\n",
      "[1, 19, 19, 19, 31]\t wins 80.00% of games\n",
      "[1, 19, 19, 20, 30]\t wins 80.00% of games\n",
      "[1, 19, 19, 21, 29]\t wins 80.00% of games\n",
      "[1, 19, 19, 22, 28]\t wins 80.00% of games\n",
      "[1, 19, 19, 23, 27]\t wins 80.00% of games\n",
      "[1, 19, 19, 24, 26]\t wins 80.00% of games\n",
      "[1, 19, 19, 25, 25]\t wins 80.00% of games\n",
      "[1, 19, 20, 20, 29]\t wins 80.00% of games\n",
      "[1, 19, 20, 21, 28]\t wins 80.00% of games\n",
      "[1, 19, 20, 22, 27]\t wins 80.00% of games\n",
      "\n"
     ]
    }
   ],
   "source": [
    "winning_die_verbose([17,18,18,18,18],10,False)"
   ]
  },
  {
   "cell_type": "markdown",
   "metadata": {},
   "source": [
    "**Enabling the output of losing die helps to examine patterns for winning strategy**\n",
    "\n",
    "Patterns such as *small-small-high* seems to be pretty bad. However, you can sacrifice less than half the sides with small numbers in order to put high numbers on the other sides."
   ]
  },
  {
   "cell_type": "code",
   "execution_count": 12,
   "metadata": {
    "collapsed": false
   },
   "outputs": [
    {
     "name": "stdout",
     "output_type": "stream",
     "text": [
      "Winners:         3  ( 30.00%)\n",
      "Ties:            2  ( 20.00%)\n",
      "Losers:          5  ( 50.00%)\n",
      "Valid die:      10\n",
      "\n",
      "Here are the top 3 winners:\n",
      "[2, 3, 3, 3]\t wins 58.33% of games\n",
      "[1, 3, 3, 4]\t wins 53.85% of games\n",
      "[2, 2, 3, 4]\t wins 53.85% of games\n",
      "\n",
      "Here are the losing die:\n",
      "[1, 2, 4, 4]\t ties the input\n",
      "[2, 2, 2, 5]\t ties the input\n",
      "[1, 1, 3, 6]\t loses 53.85% of games\n",
      "[1, 1, 4, 5]\t loses 53.85% of games\n",
      "[1, 2, 2, 6]\t loses 53.85% of games\n",
      "[1, 1, 2, 7]\t loses 61.54% of games\n",
      "[1, 1, 1, 8]\t loses 69.23% of games\n",
      "\n"
     ]
    }
   ],
   "source": [
    "winning_die_verbose([1,2,3,5],10,True)"
   ]
  }
 ],
 "metadata": {
  "kernelspec": {
   "display_name": "Python 3",
   "language": "python",
   "name": "python3"
  },
  "language_info": {
   "codemirror_mode": {
    "name": "ipython",
    "version": 3
   },
   "file_extension": ".py",
   "mimetype": "text/x-python",
   "name": "python",
   "nbconvert_exporter": "python",
   "pygments_lexer": "ipython3",
   "version": "3.4.3"
  }
 },
 "nbformat": 4,
 "nbformat_minor": 0
}
