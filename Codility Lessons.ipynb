{
 "cells": [
  {
   "cell_type": "markdown",
   "metadata": {
    "collapsed": true
   },
   "source": [
    "# Solutions to Codility lessons\n",
    "https://codility.com/programmers/lessons/"
   ]
  },
  {
   "cell_type": "markdown",
   "metadata": {},
   "source": [
    "## TapeEquilibrium\n",
    "https://codility.com/programmers/task/tape_equilibrium"
   ]
  },
  {
   "cell_type": "code",
   "execution_count": 1,
   "metadata": {
    "collapsed": true
   },
   "outputs": [],
   "source": [
    "def te_solution(A):\n",
    "    left = A[0]\n",
    "    right = sum(A[1:])\n",
    "    minDiff = abs(left-right)\n",
    "    \n",
    "    for i in range(1,len(A)-1):\n",
    "        left += A[i]\n",
    "        right -= A[i]\n",
    "        diff = abs(left-right)\n",
    "        if diff<minDiff:\n",
    "            minDiff=diff\n",
    "            \n",
    "    return minDiff"
   ]
  },
  {
   "cell_type": "code",
   "execution_count": 2,
   "metadata": {
    "collapsed": false
   },
   "outputs": [
    {
     "data": {
      "text/plain": [
       "1"
      ]
     },
     "execution_count": 2,
     "metadata": {},
     "output_type": "execute_result"
    }
   ],
   "source": [
    "te_solution([3,1,2,4,3])"
   ]
  },
  {
   "cell_type": "markdown",
   "metadata": {},
   "source": [
    "## FrogJmp\n",
    "https://codility.com/programmers/task/frog_jmp"
   ]
  },
  {
   "cell_type": "code",
   "execution_count": 3,
   "metadata": {
    "collapsed": true
   },
   "outputs": [],
   "source": [
    "def fj_solution(X, Y, D):\n",
    "    frac = int((Y-X)/D)\n",
    "    if frac*D<Y-X:\n",
    "        return frac+1\n",
    "    else:\n",
    "        return frac"
   ]
  },
  {
   "cell_type": "code",
   "execution_count": 4,
   "metadata": {
    "collapsed": false
   },
   "outputs": [
    {
     "data": {
      "text/plain": [
       "3"
      ]
     },
     "execution_count": 4,
     "metadata": {},
     "output_type": "execute_result"
    }
   ],
   "source": [
    "fj_solution(10,85,30)"
   ]
  },
  {
   "cell_type": "markdown",
   "metadata": {},
   "source": [
    "## PermMissingElem\n",
    "https://codility.com/programmers/task/perm_missing_elem"
   ]
  },
  {
   "cell_type": "code",
   "execution_count": 5,
   "metadata": {
    "collapsed": true
   },
   "outputs": [],
   "source": [
    "def pme_solution(A):\n",
    "    x=1\n",
    "    for i in range(2,len(A)+2):\n",
    "        x^=i\n",
    "    for i in A:\n",
    "        x^=i\n",
    "        \n",
    "    return x"
   ]
  },
  {
   "cell_type": "code",
   "execution_count": 6,
   "metadata": {
    "collapsed": false
   },
   "outputs": [
    {
     "data": {
      "text/plain": [
       "4"
      ]
     },
     "execution_count": 6,
     "metadata": {},
     "output_type": "execute_result"
    }
   ],
   "source": [
    "pme_solution([2,3,1,5])"
   ]
  },
  {
   "cell_type": "markdown",
   "metadata": {},
   "source": [
    "## NumberSolitaire\n",
    "https://codility.com/programmers/task/number_solitaire"
   ]
  },
  {
   "cell_type": "code",
   "execution_count": 7,
   "metadata": {
    "collapsed": true
   },
   "outputs": [],
   "source": [
    "def ns_solution(A):\n",
    "    sols = [float(\"-inf\")] * len(A)\n",
    "    sols[0] = A[0]\n",
    "    \n",
    "    for i in range(1,len(A)):\n",
    "        sols[i] = max(sols[max(0,i-6):i+1])+A[i]\n",
    "        \n",
    "    return sols[-1]"
   ]
  },
  {
   "cell_type": "code",
   "execution_count": 8,
   "metadata": {
    "collapsed": false
   },
   "outputs": [
    {
     "data": {
      "text/plain": [
       "8"
      ]
     },
     "execution_count": 8,
     "metadata": {},
     "output_type": "execute_result"
    }
   ],
   "source": [
    "ns_solution([1,-2,0,9,-1,-2])"
   ]
  },
  {
   "cell_type": "markdown",
   "metadata": {},
   "source": [
    "## Dynamic Coin Changing Example\n",
    "https://codility.com/media/train/15-DynamicProgramming.pdf\n",
    "\n",
    "This handy dynamic function returns the minimum number of coins needed to pay a given amount of money (int k) if the coins have certain denominations (list C). (Assume you have unlimited coins of all types)"
   ]
  },
  {
   "cell_type": "code",
   "execution_count": 9,
   "metadata": {
    "collapsed": true
   },
   "outputs": [],
   "source": [
    "def dynamic_coin_changing(C, k):\n",
    "    n = len(C)\n",
    "    dp = [0] + [float(\"inf\")] * k\n",
    "    for i in range(1, n + 1):\n",
    "        for j in range(C[i - 1], k + 1):\n",
    "            dp[j] = min(dp[j - C[i - 1]] + 1, dp[j])\n",
    "    return dp[-1]"
   ]
  },
  {
   "cell_type": "markdown",
   "metadata": {},
   "source": [
    "Getting $0.99 in change is not fun (9 coins!)"
   ]
  },
  {
   "cell_type": "code",
   "execution_count": 10,
   "metadata": {
    "collapsed": false
   },
   "outputs": [
    {
     "data": {
      "text/plain": [
       "9"
      ]
     },
     "execution_count": 10,
     "metadata": {},
     "output_type": "execute_result"
    }
   ],
   "source": [
    "dynamic_coin_changing([1,5,10,25],99)"
   ]
  },
  {
   "cell_type": "code",
   "execution_count": 11,
   "metadata": {
    "collapsed": true
   },
   "outputs": [],
   "source": [
    "def roundTo(a,b):\n",
    "    'rounds a to the nearest b'\n",
    "    return b*int(a/b+(0.5 if a >= 0 else -0.5))\n",
    "\n",
    "def dynamic_coin_changing_rounded(C, k):\n",
    "    n = len(C)\n",
    "    k = roundTo(k,min(C))\n",
    "    dp = [0] + [float(\"inf\")] * k\n",
    "    for i in range(1, n + 1):\n",
    "        for j in range(C[i - 1], k + 1):\n",
    "            dp[j] = min(dp[j - C[i - 1]] + 1, dp[j])\n",
    "    return dp[-1]"
   ]
  },
  {
   "cell_type": "markdown",
   "metadata": {},
   "source": [
    "Thankfully, in Canada we've done away with pennies (only 4 coins and you get an extra cent!)"
   ]
  },
  {
   "cell_type": "code",
   "execution_count": 12,
   "metadata": {
    "collapsed": false
   },
   "outputs": [
    {
     "data": {
      "text/plain": [
       "4"
      ]
     },
     "execution_count": 12,
     "metadata": {},
     "output_type": "execute_result"
    }
   ],
   "source": [
    "dynamic_coin_changing_rounded([5,10,25],99)"
   ]
  }
 ],
 "metadata": {
  "kernelspec": {
   "display_name": "Python 3",
   "language": "python",
   "name": "python3"
  },
  "language_info": {
   "codemirror_mode": {
    "name": "ipython",
    "version": 3
   },
   "file_extension": ".py",
   "mimetype": "text/x-python",
   "name": "python",
   "nbconvert_exporter": "python",
   "pygments_lexer": "ipython3",
   "version": "3.4.3"
  }
 },
 "nbformat": 4,
 "nbformat_minor": 0
}
